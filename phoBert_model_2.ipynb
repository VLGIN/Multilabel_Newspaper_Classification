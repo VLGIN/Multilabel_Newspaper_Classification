{
  "nbformat": 4,
  "nbformat_minor": 0,
  "metadata": {
    "accelerator": "GPU",
    "colab": {
      "name": "phoBert_model_3_using_LSTM.ipynb",
      "provenance": [],
      "collapsed_sections": []
    },
    "kernelspec": {
      "display_name": "Python 3",
      "name": "python3"
    },
    "language_info": {
      "name": "python"
    },
    "widgets": {
      "application/vnd.jupyter.widget-state+json": {
        "2db550beadc94a0bb397272fa8ab60c1": {
          "model_module": "@jupyter-widgets/controls",
          "model_name": "HBoxModel",
          "state": {
            "_view_name": "HBoxView",
            "_dom_classes": [],
            "_model_name": "HBoxModel",
            "_view_module": "@jupyter-widgets/controls",
            "_model_module_version": "1.5.0",
            "_view_count": null,
            "_view_module_version": "1.5.0",
            "box_style": "",
            "layout": "IPY_MODEL_b1afea854de84d7a97be61a831761378",
            "_model_module": "@jupyter-widgets/controls",
            "children": [
              "IPY_MODEL_f699a615b55f470585c349a6f7f00068",
              "IPY_MODEL_f7cede2f5423472e844a6d98f30b7aba"
            ]
          }
        },
        "b1afea854de84d7a97be61a831761378": {
          "model_module": "@jupyter-widgets/base",
          "model_name": "LayoutModel",
          "state": {
            "_view_name": "LayoutView",
            "grid_template_rows": null,
            "right": null,
            "justify_content": null,
            "_view_module": "@jupyter-widgets/base",
            "overflow": null,
            "_model_module_version": "1.2.0",
            "_view_count": null,
            "flex_flow": null,
            "width": null,
            "min_width": null,
            "border": null,
            "align_items": null,
            "bottom": null,
            "_model_module": "@jupyter-widgets/base",
            "top": null,
            "grid_column": null,
            "overflow_y": null,
            "overflow_x": null,
            "grid_auto_flow": null,
            "grid_area": null,
            "grid_template_columns": null,
            "flex": null,
            "_model_name": "LayoutModel",
            "justify_items": null,
            "grid_row": null,
            "max_height": null,
            "align_content": null,
            "visibility": null,
            "align_self": null,
            "height": null,
            "min_height": null,
            "padding": null,
            "grid_auto_rows": null,
            "grid_gap": null,
            "max_width": null,
            "order": null,
            "_view_module_version": "1.2.0",
            "grid_template_areas": null,
            "object_position": null,
            "object_fit": null,
            "grid_auto_columns": null,
            "margin": null,
            "display": null,
            "left": null
          }
        },
        "f699a615b55f470585c349a6f7f00068": {
          "model_module": "@jupyter-widgets/controls",
          "model_name": "FloatProgressModel",
          "state": {
            "_view_name": "ProgressView",
            "style": "IPY_MODEL_7f422f51df9d4aa991e8ac12c6698be6",
            "_dom_classes": [],
            "description": "Downloading: 100%",
            "_model_name": "FloatProgressModel",
            "bar_style": "success",
            "max": 557,
            "_view_module": "@jupyter-widgets/controls",
            "_model_module_version": "1.5.0",
            "value": 557,
            "_view_count": null,
            "_view_module_version": "1.5.0",
            "orientation": "horizontal",
            "min": 0,
            "description_tooltip": null,
            "_model_module": "@jupyter-widgets/controls",
            "layout": "IPY_MODEL_1fff292b22de49b583135315f065b7b9"
          }
        },
        "f7cede2f5423472e844a6d98f30b7aba": {
          "model_module": "@jupyter-widgets/controls",
          "model_name": "HTMLModel",
          "state": {
            "_view_name": "HTMLView",
            "style": "IPY_MODEL_77da34e8e4e74bb59ce16f5306ab2221",
            "_dom_classes": [],
            "description": "",
            "_model_name": "HTMLModel",
            "placeholder": "​",
            "_view_module": "@jupyter-widgets/controls",
            "_model_module_version": "1.5.0",
            "value": " 557/557 [00:03&lt;00:00, 155B/s]",
            "_view_count": null,
            "_view_module_version": "1.5.0",
            "description_tooltip": null,
            "_model_module": "@jupyter-widgets/controls",
            "layout": "IPY_MODEL_bfff134d6928430ba7248950c7a89325"
          }
        },
        "7f422f51df9d4aa991e8ac12c6698be6": {
          "model_module": "@jupyter-widgets/controls",
          "model_name": "ProgressStyleModel",
          "state": {
            "_view_name": "StyleView",
            "_model_name": "ProgressStyleModel",
            "description_width": "initial",
            "_view_module": "@jupyter-widgets/base",
            "_model_module_version": "1.5.0",
            "_view_count": null,
            "_view_module_version": "1.2.0",
            "bar_color": null,
            "_model_module": "@jupyter-widgets/controls"
          }
        },
        "1fff292b22de49b583135315f065b7b9": {
          "model_module": "@jupyter-widgets/base",
          "model_name": "LayoutModel",
          "state": {
            "_view_name": "LayoutView",
            "grid_template_rows": null,
            "right": null,
            "justify_content": null,
            "_view_module": "@jupyter-widgets/base",
            "overflow": null,
            "_model_module_version": "1.2.0",
            "_view_count": null,
            "flex_flow": null,
            "width": null,
            "min_width": null,
            "border": null,
            "align_items": null,
            "bottom": null,
            "_model_module": "@jupyter-widgets/base",
            "top": null,
            "grid_column": null,
            "overflow_y": null,
            "overflow_x": null,
            "grid_auto_flow": null,
            "grid_area": null,
            "grid_template_columns": null,
            "flex": null,
            "_model_name": "LayoutModel",
            "justify_items": null,
            "grid_row": null,
            "max_height": null,
            "align_content": null,
            "visibility": null,
            "align_self": null,
            "height": null,
            "min_height": null,
            "padding": null,
            "grid_auto_rows": null,
            "grid_gap": null,
            "max_width": null,
            "order": null,
            "_view_module_version": "1.2.0",
            "grid_template_areas": null,
            "object_position": null,
            "object_fit": null,
            "grid_auto_columns": null,
            "margin": null,
            "display": null,
            "left": null
          }
        },
        "77da34e8e4e74bb59ce16f5306ab2221": {
          "model_module": "@jupyter-widgets/controls",
          "model_name": "DescriptionStyleModel",
          "state": {
            "_view_name": "StyleView",
            "_model_name": "DescriptionStyleModel",
            "description_width": "",
            "_view_module": "@jupyter-widgets/base",
            "_model_module_version": "1.5.0",
            "_view_count": null,
            "_view_module_version": "1.2.0",
            "_model_module": "@jupyter-widgets/controls"
          }
        },
        "bfff134d6928430ba7248950c7a89325": {
          "model_module": "@jupyter-widgets/base",
          "model_name": "LayoutModel",
          "state": {
            "_view_name": "LayoutView",
            "grid_template_rows": null,
            "right": null,
            "justify_content": null,
            "_view_module": "@jupyter-widgets/base",
            "overflow": null,
            "_model_module_version": "1.2.0",
            "_view_count": null,
            "flex_flow": null,
            "width": null,
            "min_width": null,
            "border": null,
            "align_items": null,
            "bottom": null,
            "_model_module": "@jupyter-widgets/base",
            "top": null,
            "grid_column": null,
            "overflow_y": null,
            "overflow_x": null,
            "grid_auto_flow": null,
            "grid_area": null,
            "grid_template_columns": null,
            "flex": null,
            "_model_name": "LayoutModel",
            "justify_items": null,
            "grid_row": null,
            "max_height": null,
            "align_content": null,
            "visibility": null,
            "align_self": null,
            "height": null,
            "min_height": null,
            "padding": null,
            "grid_auto_rows": null,
            "grid_gap": null,
            "max_width": null,
            "order": null,
            "_view_module_version": "1.2.0",
            "grid_template_areas": null,
            "object_position": null,
            "object_fit": null,
            "grid_auto_columns": null,
            "margin": null,
            "display": null,
            "left": null
          }
        },
        "790fd33cd3e343aeb1180979e7d7f668": {
          "model_module": "@jupyter-widgets/controls",
          "model_name": "HBoxModel",
          "state": {
            "_view_name": "HBoxView",
            "_dom_classes": [],
            "_model_name": "HBoxModel",
            "_view_module": "@jupyter-widgets/controls",
            "_model_module_version": "1.5.0",
            "_view_count": null,
            "_view_module_version": "1.5.0",
            "box_style": "",
            "layout": "IPY_MODEL_4e4d9a5a8bc1424fb5f6a8c522c56383",
            "_model_module": "@jupyter-widgets/controls",
            "children": [
              "IPY_MODEL_530fdb1e51d043a99f110e42207e4b00",
              "IPY_MODEL_ae4935e8dbfb495a9ba50f1ac835c475"
            ]
          }
        },
        "4e4d9a5a8bc1424fb5f6a8c522c56383": {
          "model_module": "@jupyter-widgets/base",
          "model_name": "LayoutModel",
          "state": {
            "_view_name": "LayoutView",
            "grid_template_rows": null,
            "right": null,
            "justify_content": null,
            "_view_module": "@jupyter-widgets/base",
            "overflow": null,
            "_model_module_version": "1.2.0",
            "_view_count": null,
            "flex_flow": null,
            "width": null,
            "min_width": null,
            "border": null,
            "align_items": null,
            "bottom": null,
            "_model_module": "@jupyter-widgets/base",
            "top": null,
            "grid_column": null,
            "overflow_y": null,
            "overflow_x": null,
            "grid_auto_flow": null,
            "grid_area": null,
            "grid_template_columns": null,
            "flex": null,
            "_model_name": "LayoutModel",
            "justify_items": null,
            "grid_row": null,
            "max_height": null,
            "align_content": null,
            "visibility": null,
            "align_self": null,
            "height": null,
            "min_height": null,
            "padding": null,
            "grid_auto_rows": null,
            "grid_gap": null,
            "max_width": null,
            "order": null,
            "_view_module_version": "1.2.0",
            "grid_template_areas": null,
            "object_position": null,
            "object_fit": null,
            "grid_auto_columns": null,
            "margin": null,
            "display": null,
            "left": null
          }
        },
        "530fdb1e51d043a99f110e42207e4b00": {
          "model_module": "@jupyter-widgets/controls",
          "model_name": "FloatProgressModel",
          "state": {
            "_view_name": "ProgressView",
            "style": "IPY_MODEL_759befabdbc84ae0917f4cb3f660ddc0",
            "_dom_classes": [],
            "description": "Downloading: 100%",
            "_model_name": "FloatProgressModel",
            "bar_style": "success",
            "max": 895321,
            "_view_module": "@jupyter-widgets/controls",
            "_model_module_version": "1.5.0",
            "value": 895321,
            "_view_count": null,
            "_view_module_version": "1.5.0",
            "orientation": "horizontal",
            "min": 0,
            "description_tooltip": null,
            "_model_module": "@jupyter-widgets/controls",
            "layout": "IPY_MODEL_c337cf412a554a739f3e2dcf3b6ff938"
          }
        },
        "ae4935e8dbfb495a9ba50f1ac835c475": {
          "model_module": "@jupyter-widgets/controls",
          "model_name": "HTMLModel",
          "state": {
            "_view_name": "HTMLView",
            "style": "IPY_MODEL_30b2cc8ccb784e5c8b6c3de20bf7b8c5",
            "_dom_classes": [],
            "description": "",
            "_model_name": "HTMLModel",
            "placeholder": "​",
            "_view_module": "@jupyter-widgets/controls",
            "_model_module_version": "1.5.0",
            "value": " 895k/895k [00:00&lt;00:00, 895kB/s]",
            "_view_count": null,
            "_view_module_version": "1.5.0",
            "description_tooltip": null,
            "_model_module": "@jupyter-widgets/controls",
            "layout": "IPY_MODEL_080d0c8403b04056ac7636d4b80e37ed"
          }
        },
        "759befabdbc84ae0917f4cb3f660ddc0": {
          "model_module": "@jupyter-widgets/controls",
          "model_name": "ProgressStyleModel",
          "state": {
            "_view_name": "StyleView",
            "_model_name": "ProgressStyleModel",
            "description_width": "initial",
            "_view_module": "@jupyter-widgets/base",
            "_model_module_version": "1.5.0",
            "_view_count": null,
            "_view_module_version": "1.2.0",
            "bar_color": null,
            "_model_module": "@jupyter-widgets/controls"
          }
        },
        "c337cf412a554a739f3e2dcf3b6ff938": {
          "model_module": "@jupyter-widgets/base",
          "model_name": "LayoutModel",
          "state": {
            "_view_name": "LayoutView",
            "grid_template_rows": null,
            "right": null,
            "justify_content": null,
            "_view_module": "@jupyter-widgets/base",
            "overflow": null,
            "_model_module_version": "1.2.0",
            "_view_count": null,
            "flex_flow": null,
            "width": null,
            "min_width": null,
            "border": null,
            "align_items": null,
            "bottom": null,
            "_model_module": "@jupyter-widgets/base",
            "top": null,
            "grid_column": null,
            "overflow_y": null,
            "overflow_x": null,
            "grid_auto_flow": null,
            "grid_area": null,
            "grid_template_columns": null,
            "flex": null,
            "_model_name": "LayoutModel",
            "justify_items": null,
            "grid_row": null,
            "max_height": null,
            "align_content": null,
            "visibility": null,
            "align_self": null,
            "height": null,
            "min_height": null,
            "padding": null,
            "grid_auto_rows": null,
            "grid_gap": null,
            "max_width": null,
            "order": null,
            "_view_module_version": "1.2.0",
            "grid_template_areas": null,
            "object_position": null,
            "object_fit": null,
            "grid_auto_columns": null,
            "margin": null,
            "display": null,
            "left": null
          }
        },
        "30b2cc8ccb784e5c8b6c3de20bf7b8c5": {
          "model_module": "@jupyter-widgets/controls",
          "model_name": "DescriptionStyleModel",
          "state": {
            "_view_name": "StyleView",
            "_model_name": "DescriptionStyleModel",
            "description_width": "",
            "_view_module": "@jupyter-widgets/base",
            "_model_module_version": "1.5.0",
            "_view_count": null,
            "_view_module_version": "1.2.0",
            "_model_module": "@jupyter-widgets/controls"
          }
        },
        "080d0c8403b04056ac7636d4b80e37ed": {
          "model_module": "@jupyter-widgets/base",
          "model_name": "LayoutModel",
          "state": {
            "_view_name": "LayoutView",
            "grid_template_rows": null,
            "right": null,
            "justify_content": null,
            "_view_module": "@jupyter-widgets/base",
            "overflow": null,
            "_model_module_version": "1.2.0",
            "_view_count": null,
            "flex_flow": null,
            "width": null,
            "min_width": null,
            "border": null,
            "align_items": null,
            "bottom": null,
            "_model_module": "@jupyter-widgets/base",
            "top": null,
            "grid_column": null,
            "overflow_y": null,
            "overflow_x": null,
            "grid_auto_flow": null,
            "grid_area": null,
            "grid_template_columns": null,
            "flex": null,
            "_model_name": "LayoutModel",
            "justify_items": null,
            "grid_row": null,
            "max_height": null,
            "align_content": null,
            "visibility": null,
            "align_self": null,
            "height": null,
            "min_height": null,
            "padding": null,
            "grid_auto_rows": null,
            "grid_gap": null,
            "max_width": null,
            "order": null,
            "_view_module_version": "1.2.0",
            "grid_template_areas": null,
            "object_position": null,
            "object_fit": null,
            "grid_auto_columns": null,
            "margin": null,
            "display": null,
            "left": null
          }
        },
        "0cc8d7fdf7ec4f769ce440671f144f05": {
          "model_module": "@jupyter-widgets/controls",
          "model_name": "HBoxModel",
          "state": {
            "_view_name": "HBoxView",
            "_dom_classes": [],
            "_model_name": "HBoxModel",
            "_view_module": "@jupyter-widgets/controls",
            "_model_module_version": "1.5.0",
            "_view_count": null,
            "_view_module_version": "1.5.0",
            "box_style": "",
            "layout": "IPY_MODEL_a76344edbd0344b9b8b6fd865581c7e5",
            "_model_module": "@jupyter-widgets/controls",
            "children": [
              "IPY_MODEL_c6906c09e42440919d5b2c5aa53aa4f4",
              "IPY_MODEL_84149b52490147b48597266e5b8fc22c"
            ]
          }
        },
        "a76344edbd0344b9b8b6fd865581c7e5": {
          "model_module": "@jupyter-widgets/base",
          "model_name": "LayoutModel",
          "state": {
            "_view_name": "LayoutView",
            "grid_template_rows": null,
            "right": null,
            "justify_content": null,
            "_view_module": "@jupyter-widgets/base",
            "overflow": null,
            "_model_module_version": "1.2.0",
            "_view_count": null,
            "flex_flow": null,
            "width": null,
            "min_width": null,
            "border": null,
            "align_items": null,
            "bottom": null,
            "_model_module": "@jupyter-widgets/base",
            "top": null,
            "grid_column": null,
            "overflow_y": null,
            "overflow_x": null,
            "grid_auto_flow": null,
            "grid_area": null,
            "grid_template_columns": null,
            "flex": null,
            "_model_name": "LayoutModel",
            "justify_items": null,
            "grid_row": null,
            "max_height": null,
            "align_content": null,
            "visibility": null,
            "align_self": null,
            "height": null,
            "min_height": null,
            "padding": null,
            "grid_auto_rows": null,
            "grid_gap": null,
            "max_width": null,
            "order": null,
            "_view_module_version": "1.2.0",
            "grid_template_areas": null,
            "object_position": null,
            "object_fit": null,
            "grid_auto_columns": null,
            "margin": null,
            "display": null,
            "left": null
          }
        },
        "c6906c09e42440919d5b2c5aa53aa4f4": {
          "model_module": "@jupyter-widgets/controls",
          "model_name": "FloatProgressModel",
          "state": {
            "_view_name": "ProgressView",
            "style": "IPY_MODEL_d40520d842304d2faf69934123063cff",
            "_dom_classes": [],
            "description": "Downloading: 100%",
            "_model_name": "FloatProgressModel",
            "bar_style": "success",
            "max": 1135173,
            "_view_module": "@jupyter-widgets/controls",
            "_model_module_version": "1.5.0",
            "value": 1135173,
            "_view_count": null,
            "_view_module_version": "1.5.0",
            "orientation": "horizontal",
            "min": 0,
            "description_tooltip": null,
            "_model_module": "@jupyter-widgets/controls",
            "layout": "IPY_MODEL_d2d67944cc7441bfb7faef09fe383f62"
          }
        },
        "84149b52490147b48597266e5b8fc22c": {
          "model_module": "@jupyter-widgets/controls",
          "model_name": "HTMLModel",
          "state": {
            "_view_name": "HTMLView",
            "style": "IPY_MODEL_ffa7a0977f4c466192e67289575a0482",
            "_dom_classes": [],
            "description": "",
            "_model_name": "HTMLModel",
            "placeholder": "​",
            "_view_module": "@jupyter-widgets/controls",
            "_model_module_version": "1.5.0",
            "value": " 1.14M/1.14M [00:01&lt;00:00, 617kB/s]",
            "_view_count": null,
            "_view_module_version": "1.5.0",
            "description_tooltip": null,
            "_model_module": "@jupyter-widgets/controls",
            "layout": "IPY_MODEL_b2bb0684625b4f03bb1a1132c15184cd"
          }
        },
        "d40520d842304d2faf69934123063cff": {
          "model_module": "@jupyter-widgets/controls",
          "model_name": "ProgressStyleModel",
          "state": {
            "_view_name": "StyleView",
            "_model_name": "ProgressStyleModel",
            "description_width": "initial",
            "_view_module": "@jupyter-widgets/base",
            "_model_module_version": "1.5.0",
            "_view_count": null,
            "_view_module_version": "1.2.0",
            "bar_color": null,
            "_model_module": "@jupyter-widgets/controls"
          }
        },
        "d2d67944cc7441bfb7faef09fe383f62": {
          "model_module": "@jupyter-widgets/base",
          "model_name": "LayoutModel",
          "state": {
            "_view_name": "LayoutView",
            "grid_template_rows": null,
            "right": null,
            "justify_content": null,
            "_view_module": "@jupyter-widgets/base",
            "overflow": null,
            "_model_module_version": "1.2.0",
            "_view_count": null,
            "flex_flow": null,
            "width": null,
            "min_width": null,
            "border": null,
            "align_items": null,
            "bottom": null,
            "_model_module": "@jupyter-widgets/base",
            "top": null,
            "grid_column": null,
            "overflow_y": null,
            "overflow_x": null,
            "grid_auto_flow": null,
            "grid_area": null,
            "grid_template_columns": null,
            "flex": null,
            "_model_name": "LayoutModel",
            "justify_items": null,
            "grid_row": null,
            "max_height": null,
            "align_content": null,
            "visibility": null,
            "align_self": null,
            "height": null,
            "min_height": null,
            "padding": null,
            "grid_auto_rows": null,
            "grid_gap": null,
            "max_width": null,
            "order": null,
            "_view_module_version": "1.2.0",
            "grid_template_areas": null,
            "object_position": null,
            "object_fit": null,
            "grid_auto_columns": null,
            "margin": null,
            "display": null,
            "left": null
          }
        },
        "ffa7a0977f4c466192e67289575a0482": {
          "model_module": "@jupyter-widgets/controls",
          "model_name": "DescriptionStyleModel",
          "state": {
            "_view_name": "StyleView",
            "_model_name": "DescriptionStyleModel",
            "description_width": "",
            "_view_module": "@jupyter-widgets/base",
            "_model_module_version": "1.5.0",
            "_view_count": null,
            "_view_module_version": "1.2.0",
            "_model_module": "@jupyter-widgets/controls"
          }
        },
        "b2bb0684625b4f03bb1a1132c15184cd": {
          "model_module": "@jupyter-widgets/base",
          "model_name": "LayoutModel",
          "state": {
            "_view_name": "LayoutView",
            "grid_template_rows": null,
            "right": null,
            "justify_content": null,
            "_view_module": "@jupyter-widgets/base",
            "overflow": null,
            "_model_module_version": "1.2.0",
            "_view_count": null,
            "flex_flow": null,
            "width": null,
            "min_width": null,
            "border": null,
            "align_items": null,
            "bottom": null,
            "_model_module": "@jupyter-widgets/base",
            "top": null,
            "grid_column": null,
            "overflow_y": null,
            "overflow_x": null,
            "grid_auto_flow": null,
            "grid_area": null,
            "grid_template_columns": null,
            "flex": null,
            "_model_name": "LayoutModel",
            "justify_items": null,
            "grid_row": null,
            "max_height": null,
            "align_content": null,
            "visibility": null,
            "align_self": null,
            "height": null,
            "min_height": null,
            "padding": null,
            "grid_auto_rows": null,
            "grid_gap": null,
            "max_width": null,
            "order": null,
            "_view_module_version": "1.2.0",
            "grid_template_areas": null,
            "object_position": null,
            "object_fit": null,
            "grid_auto_columns": null,
            "margin": null,
            "display": null,
            "left": null
          }
        }
      }
    }
  },
  "cells": [
    {
      "cell_type": "code",
      "metadata": {
        "id": "VXk7kLt7T84C"
      },
      "source": [
        "from google.colab import drive\n",
        "drive.mount(\"/content/drive\")\n",
        "import os\n",
        "os.chdir(\"/content/drive/MyDrive/BERT\")\n",
        "!pip install transformers\n",
        "from transformers import AutoModel, AutoTokenizer\n",
        "import re\n",
        "import pandas as pd\n",
        "import numpy as np\n",
        "import random\n",
        "import torch\n",
        "from tqdm import tqdm\n",
        "from torch import nn, optim\n",
        "from sklearn.preprocessing import LabelEncoder\n",
        "from sklearn.metrics import f1_score, accuracy_score\n",
        "from transformers import get_linear_schedule_with_warmup, get_constant_schedule, AdamW\n",
        "\n",
        "torch.cuda.empty_cache()"
      ],
      "execution_count": 1,
      "outputs": []
    },
    {
      "cell_type": "markdown",
      "metadata": {
        "id": "g4YHrb8TUn5c"
      },
      "source": [
        "# Read data\n",
        "\n",
        "Split train and test set.\n",
        "\n",
        "Encode data usinng tokenizer from pretrained phobert."
      ]
    },
    {
      "cell_type": "code",
      "metadata": {
        "id": "8Vasc5qu3nPm"
      },
      "source": [
        "dataset = pd.read_csv(\"dataset_original.csv\")\n",
        "data = dataset[\"data\"].values\n",
        "label = dataset[\"label\"].values"
      ],
      "execution_count": 2,
      "outputs": []
    },
    {
      "cell_type": "code",
      "metadata": {
        "colab": {
          "base_uri": "https://localhost:8080/"
        },
        "id": "JRbYHa0u535j",
        "outputId": "110e95af-db70-4d61-a2b2-7d58d8e2caa8"
      },
      "source": [
        "len(data)"
      ],
      "execution_count": 3,
      "outputs": [
        {
          "output_type": "execute_result",
          "data": {
            "text/plain": [
              "130616"
            ]
          },
          "metadata": {
            "tags": []
          },
          "execution_count": 3
        }
      ]
    },
    {
      "cell_type": "code",
      "metadata": {
        "id": "AX3O9AgYWvG1"
      },
      "source": [
        "train_dataset = {\"data\": data[:80000],\"label\": label[:80000]}\n",
        "test_dataset = {\"data\": data[80000:], \"label\": label[80000:]}"
      ],
      "execution_count": 4,
      "outputs": []
    },
    {
      "cell_type": "code",
      "metadata": {
        "colab": {
          "base_uri": "https://localhost:8080/"
        },
        "id": "m8N_S88KVYKW",
        "outputId": "61e0f686-7321-48f3-fd58-ffec7d9846c8"
      },
      "source": [
        "print(\"Train data:\\n\")\n",
        "for i in range(5):\n",
        "  print(\"text: \", train_dataset[\"data\"][i], \"\\nlabel\", train_dataset[\"label\"][i])\n",
        "print(\"Test data:\\n\")\n",
        "for i in range(5):\n",
        "  print(\"text: \", test_dataset[\"data\"][i], \"\\nlabel\", test_dataset[\"label\"][i])"
      ],
      "execution_count": 5,
      "outputs": [
        {
          "output_type": "stream",
          "text": [
            "Train data:\n",
            "\n",
            "text:   Theo cáo_trạng , ngày 29/10/2013 , Tập_đoàn Thiên_Thanh chuyển số tiền hơn 43 tỷ đồng vào tài_khoản đồng sở_hữu Nguyễn_Thị_Quỳnh_Trang - Mai_Hữu_Khương . \n",
            "label Pháp luật.txt\n",
            "text:   Trong một thành_tựu kỷ_lục thế_giới , một phụ_nữ ở Tennessee , Mỹ vừa hạ sinh_thành công một em bé đã được bảo_quản đông_lạnh từ khi còn là một bào_thai năm 1992 . \n",
            "label Khoa học.txt\n",
            "text:   Ông Rycroft cũng khẳng_định rằng , kho vũ_khí_hạt_nhân của Vương_quốc_Anh đã giảm hơn một_nửa so với thời đỉnh_cao của Chiến_tranh_Lạnh . \n",
            "label Thế giới.txt\n",
            "text:   Ông Phạm_Văn_Tài , khu 3 Ao_Sen , Mê_Linh bắt_đầu trồng hồng bon sai được 4 năm nay , cho biết : Ông đã theo nghề trồng hồng của cha_ông từ mấy chục năm . \n",
            "label Văn hóa.txt\n",
            "text:   Động_cơ 1 .170 cc sản_sinh công_suất 98 ,4 mã_lực tại 7 .615 vòng / phút và mô-men xoắn cực_đại đạt 78 ,5 ft-lb tại 6 .160 vòng / phút . \n",
            "label Xe cộ.txt\n",
            "Test data:\n",
            "\n",
            "text:   Họ tìm đến ông vì mắc nhiều bệnh khác nhau như : Xuất_hiện u ở đầu , ở cổ , ở ngực ; ung_thư phế_quản ; ung_thư đại_tràng , thiểu_năng tuần_hoàn não , hẹp van tim , nấm Điều khiến vị bác_sĩ tốt_bụng trăn_trở là bệnh_nhân ở các tỉnh xa về Hà_Nội thường phải thuê nhà_trọ khoảng 400 nghìn đồng / ngày , tính ra mỗi đợt điều_trị 10 ngày thì tiền thuê nhà tốn hơn tiền thuốc . \n",
            "label Văn hóa.txt\n",
            "text:   Nhớ đến Chết ở Venice , giữa một thành_phố Venice rực_rỡ đê_mê , người văn_sĩ nổi_tiếng cũng đột_ngột bị hớp_hồn bởi một thiếu_niên Ba_Lan xinh_đẹp . \n",
            "label Văn hóa.txt\n",
            "text:   Tại thị_trấn Phước_Dân , huyện Ninh_Phước , tỉnh Ninh_Thuận , hơn 18 năm nay , gần 280 hộ dân vẫn chưa có hệ_thống nước_sạch để sinh_hoạt hàng ngày . \n",
            "label Xã hội.txt\n",
            "text:   Chuyện này đã tồn_tại trong giới_từ khá lâu , tạo ra định_kiến sâu_sắc với nghề người_mẫu hay những người hoạt_động trong giới showbiz . \n",
            "label Giải trí.txt\n",
            "text:   Dù tuổi_đời còn rất trẻ , bà đã có thâm_niên 15 năm công_tác và nghiên_cứu về lĩnh_vực an_ninh quốc_gia và đối_ngoại qua 2 đời Tổng_thống Mỹ là George W . Bush và Barack_Obama cùng nhiều bộ_trưởng Quốc_phòng . \n",
            "label Giáo dục.txt\n"
          ],
          "name": "stdout"
        }
      ]
    },
    {
      "cell_type": "code",
      "metadata": {
        "colab": {
          "base_uri": "https://localhost:8080/",
          "height": 180,
          "referenced_widgets": [
            "2db550beadc94a0bb397272fa8ab60c1",
            "b1afea854de84d7a97be61a831761378",
            "f699a615b55f470585c349a6f7f00068",
            "f7cede2f5423472e844a6d98f30b7aba",
            "7f422f51df9d4aa991e8ac12c6698be6",
            "1fff292b22de49b583135315f065b7b9",
            "77da34e8e4e74bb59ce16f5306ab2221",
            "bfff134d6928430ba7248950c7a89325",
            "790fd33cd3e343aeb1180979e7d7f668",
            "4e4d9a5a8bc1424fb5f6a8c522c56383",
            "530fdb1e51d043a99f110e42207e4b00",
            "ae4935e8dbfb495a9ba50f1ac835c475",
            "759befabdbc84ae0917f4cb3f660ddc0",
            "c337cf412a554a739f3e2dcf3b6ff938",
            "30b2cc8ccb784e5c8b6c3de20bf7b8c5",
            "080d0c8403b04056ac7636d4b80e37ed",
            "0cc8d7fdf7ec4f769ce440671f144f05",
            "a76344edbd0344b9b8b6fd865581c7e5",
            "c6906c09e42440919d5b2c5aa53aa4f4",
            "84149b52490147b48597266e5b8fc22c",
            "d40520d842304d2faf69934123063cff",
            "d2d67944cc7441bfb7faef09fe383f62",
            "ffa7a0977f4c466192e67289575a0482",
            "b2bb0684625b4f03bb1a1132c15184cd"
          ]
        },
        "id": "UwxzApC5WmJz",
        "outputId": "58fb27c8-189e-4bfc-d2d4-acb25f7f11b1"
      },
      "source": [
        "tokenizer = AutoTokenizer.from_pretrained(\"vinai/phobert-base\")\n",
        "\n",
        "sequence_length = 128\n",
        "\n",
        "def encode_data(data, tokenizer):\n",
        "  result = []\n",
        "  for text in tqdm(data, total=len(data)):\n",
        "    temp = tokenizer.encode(text)\n",
        "\n",
        "    if(len(temp) < sequence_length):\n",
        "      temp += [1]*(sequence_length-len(temp))\n",
        "    elif len(temp) > sequence_length:\n",
        "      temp = temp[:sequence_length]\n",
        "      temp[-1] = tokenizer.eos_token_id\n",
        "    result.append(temp)\n",
        "  return result"
      ],
      "execution_count": 11,
      "outputs": [
        {
          "output_type": "display_data",
          "data": {
            "application/vnd.jupyter.widget-view+json": {
              "model_id": "2db550beadc94a0bb397272fa8ab60c1",
              "version_minor": 0,
              "version_major": 2
            },
            "text/plain": [
              "HBox(children=(FloatProgress(value=0.0, description='Downloading', max=557.0, style=ProgressStyle(description_…"
            ]
          },
          "metadata": {
            "tags": []
          }
        },
        {
          "output_type": "stream",
          "text": [
            "\n"
          ],
          "name": "stdout"
        },
        {
          "output_type": "display_data",
          "data": {
            "application/vnd.jupyter.widget-view+json": {
              "model_id": "790fd33cd3e343aeb1180979e7d7f668",
              "version_minor": 0,
              "version_major": 2
            },
            "text/plain": [
              "HBox(children=(FloatProgress(value=0.0, description='Downloading', max=895321.0, style=ProgressStyle(descripti…"
            ]
          },
          "metadata": {
            "tags": []
          }
        },
        {
          "output_type": "stream",
          "text": [
            "\n"
          ],
          "name": "stdout"
        },
        {
          "output_type": "display_data",
          "data": {
            "application/vnd.jupyter.widget-view+json": {
              "model_id": "0cc8d7fdf7ec4f769ce440671f144f05",
              "version_minor": 0,
              "version_major": 2
            },
            "text/plain": [
              "HBox(children=(FloatProgress(value=0.0, description='Downloading', max=1135173.0, style=ProgressStyle(descript…"
            ]
          },
          "metadata": {
            "tags": []
          }
        },
        {
          "output_type": "stream",
          "text": [
            "\n"
          ],
          "name": "stdout"
        },
        {
          "output_type": "stream",
          "text": [
            "Special tokens have been added in the vocabulary, make sure the associated word embeddings are fine-tuned or trained.\n"
          ],
          "name": "stderr"
        }
      ]
    },
    {
      "cell_type": "code",
      "metadata": {
        "colab": {
          "base_uri": "https://localhost:8080/"
        },
        "id": "vb_0ErNMX8X3",
        "outputId": "3c336f81-c661-4b76-d0c4-cffcfcf18890"
      },
      "source": [
        "train_dataset[\"data\"] = encode_data(train_dataset[\"data\"], tokenizer)\n",
        "test_dataset[\"data\"] = encode_data(test_dataset[\"data\"], tokenizer)"
      ],
      "execution_count": 12,
      "outputs": [
        {
          "output_type": "stream",
          "text": [
            "Token indices sequence length is longer than the specified maximum sequence length for this model (304 > 256). Running this sequence through the model will result in indexing errors\n"
          ],
          "name": "stderr"
        }
      ]
    },
    {
      "cell_type": "code",
      "metadata": {
        "id": "aJ5nTv1gY_8c"
      },
      "source": [
        "lbencode = LabelEncoder()\n",
        "lbencode.fit(label)\n",
        "train_dataset[\"label\"] = lbencode.transform(train_dataset[\"label\"])\n",
        "test_dataset[\"label\"] = lbencode.transform(test_dataset[\"label\"])"
      ],
      "execution_count": 13,
      "outputs": []
    },
    {
      "cell_type": "markdown",
      "metadata": {
        "id": "n6XCd5S5Yui0"
      },
      "source": [
        "# Transform to torch dataset and dataloader"
      ]
    },
    {
      "cell_type": "code",
      "metadata": {
        "id": "fRl2ZaNKYoz6"
      },
      "source": [
        "train_dataset_torch = torch.utils.data.TensorDataset(torch.tensor(train_dataset[\"data\"], dtype=torch.long), torch.tensor(train_dataset[\"label\"], dtype=torch.long))\n",
        "test_dataset_torch = torch.utils.data.TensorDataset(torch.tensor(test_dataset[\"data\"], dtype = torch.long), torch.tensor(test_dataset[\"label\"], dtype  = torch.long))"
      ],
      "execution_count": 14,
      "outputs": []
    },
    {
      "cell_type": "code",
      "metadata": {
        "id": "_G3JzPbBaEeG"
      },
      "source": [
        "train_loader = torch.utils.data.DataLoader(train_dataset_torch, batch_size=8, shuffle=False)\n",
        "test_loader = torch.utils.data.DataLoader(test_dataset_torch, batch_size=8, shuffle=False)"
      ],
      "execution_count": 15,
      "outputs": []
    },
    {
      "cell_type": "markdown",
      "metadata": {
        "id": "-63VwF8maq_E"
      },
      "source": [
        "# Build fine-tuning model to classify data."
      ]
    },
    {
      "cell_type": "code",
      "metadata": {
        "id": "QB16ODDDapVz"
      },
      "source": [
        "class Model(nn.Module):\n",
        "  def __init__(self, n_classes):\n",
        "    super(Model, self).__init__()\n",
        "    self.phobert = AutoModel.from_pretrained(\"vinai/phobert-base\")\n",
        "    self.lstm = nn.LSTM(input_size=768, hidden_size=256, batch_first=True)\n",
        "    #self.drop = nn.Dropout(p=0.3)\n",
        "    self.linear1 = nn.Linear(256, 128)\n",
        "    self.linear2 = nn.Linear(128, n_classes)\n",
        "    self.softmax = nn.Softmax(dim = 1)\n",
        "  def forward(self, inputs):\n",
        "    cls_embedding = self.phobert(inputs)[0]\n",
        "    lstm_embedding = self.lstm(cls_embedding)[0]\n",
        "    lstm_embedding = torch.nn.functional.relu(lstm_embedding)\n",
        "    lstm_embedding = torch.mean(lstm_embedding, dim = 1)\n",
        "    #output = self.drop(lstm_embedding)\n",
        "    output = self.linear1(lstm_embedding)\n",
        "    output = torch.nn.functional.relu(output)\n",
        "    output = self.linear2(output)\n",
        "    return self.softmax(output)"
      ],
      "execution_count": 16,
      "outputs": []
    },
    {
      "cell_type": "markdown",
      "metadata": {
        "id": "vFWz4cqWyu9Z"
      },
      "source": [
        "# Declare training, validation and evaluation function"
      ]
    },
    {
      "cell_type": "code",
      "metadata": {
        "id": "ggQpNRTK0qe5"
      },
      "source": [
        "def evaluate(y_pred, y_batch):\n",
        "  with torch.no_grad():\n",
        "    y_pred = y_pred.detach().cpu().numpy()\n",
        "    label = np.argmax(y_pred, axis = 1)\n",
        "    y_batch = y_batch.detach().cpu().numpy()\n",
        "    f1 = f1_score(y_batch, label, average='weighted')\n",
        "    acc = accuracy_score(y_batch, label)\n",
        "  return f1, acc"
      ],
      "execution_count": 17,
      "outputs": []
    },
    {
      "cell_type": "code",
      "metadata": {
        "id": "76fbHDvX1U6m"
      },
      "source": [
        "def validation(test_loader, loss, model, device):\n",
        "  f1s = []\n",
        "  accs = []\n",
        "  model.eval()\n",
        "  with torch.no_grad():\n",
        "    y_ = []\n",
        "    y = []\n",
        "    y_pred_ = []\n",
        "    for x_batch, y_batch in test_loader:\n",
        "      x_batch = x_batch.to(device)\n",
        "      y.extend(y_batch.numpy())\n",
        "      y_pred = model(x_batch)\n",
        "      y_pred = y_pred.detach().cpu().numpy()\n",
        "      y_pred_.extend(y_pred)\n",
        "      y_pred = np.argmax(y_pred, axis = 1)\n",
        "      y_.extend(y_pred)\n",
        "    f1 = f1_score(y, y_, average = None)\n",
        "    f1s = f1_score(y, y_, average = 'weighted')\n",
        "    accs = accuracy_score(y, y_)\n",
        "    y_pred_ = torch.tensor(y_pred_, dtype= torch.float).to(device)\n",
        "    y = torch.tensor(y, dtype = torch.long).to(device)\n",
        "    loss_value = loss(y_pred_, y)\n",
        "\n",
        "  return loss_value.item(), f1, f1s, accs"
      ],
      "execution_count": 18,
      "outputs": []
    },
    {
      "cell_type": "code",
      "metadata": {
        "id": "Twgyx1ec1YXK"
      },
      "source": [
        "def trainOnEpoch(train_loader, model, optimizer, loss, num_epochs, epoch, device, scheduler, history, log_time = 100):\n",
        "  loss_epoch = 0\n",
        "  acc_epoch = 0\n",
        "  f1_epoch = 0\n",
        "  for i, (x_batch, y_batch) in enumerate(train_loader):\n",
        "    model.train()\n",
        "    x_batch = x_batch.to(device)\n",
        "    y_batch = y_batch.to(device)\n",
        "    optimizer.zero_grad()\n",
        "    y_pred = model(x_batch)\n",
        "    loss_value = loss(y_pred, y_batch)\n",
        "    f1, acc = evaluate(y_pred, y_batch)\n",
        "\n",
        "    loss_value.backward()\n",
        "    #nn.utils.clip_grad_norm_(model.parameters(), max_norm = 1.0)\n",
        "    optimizer.step()\n",
        "    loss_epoch += loss_value.item()\n",
        "    acc_epoch += acc\n",
        "    f1_epoch += f1\n",
        "    scheduler.step()\n",
        "    if (i+1) % log_time == 0 or i + 1 == len(train_loader):\n",
        "      print(\"[TRAIN EPOCH {}] batch {} / {}, loss: {}, acc: {}, f1_avg:{}\".format(epoch+1, i+1, len(train_loader), loss_epoch / (i + 1), acc_epoch / (i+1), f1_epoch / (i + 1)))\n",
        "      history[\"loss_train\"].append(loss_epoch / (i+1))\n",
        "      history[\"acc_train\"].append(acc_epoch / (i+1))\n",
        "      history[\"f1_train\"].append(f1_epoch / (i + 1))"
      ],
      "execution_count": 19,
      "outputs": []
    },
    {
      "cell_type": "markdown",
      "metadata": {
        "id": "895xtowbgglM"
      },
      "source": [
        "# Declare hyperparameters and train model."
      ]
    },
    {
      "cell_type": "code",
      "metadata": {
        "colab": {
          "base_uri": "https://localhost:8080/",
          "height": 404
        },
        "id": "MWa7fvcY8lm8",
        "outputId": "70f8e74d-4ff5-447c-ec92-c3dacb195739"
      },
      "source": [
        "EPOCHS = 50\n",
        "DEVICE = torch.device(\"cuda\" if torch.cuda.is_available() else \"cpu\")\n",
        "CHECKPOINT_PATH = \"checkpoint_model_2/last_model.pth.tar\"\n",
        "CHECKPOINT_BEST_PATH = \"checkpoint_model_2/best_model.path.tar\"\n",
        "\n",
        "history = {\"loss_train\": [], \"acc_train\":[], \"f1_train\":[]}\n",
        "\n",
        "model = Model(11)\n",
        "model.to(DEVICE)\n",
        "loss_function = nn.CrossEntropyLoss()\n",
        "optimizer = AdamW(model.parameters(), lr=1e-5)\n",
        "scheduler = get_linear_schedule_with_warmup(optimizer, num_warmup_steps=len(train_loader), num_training_steps=len(train_loader)*(EPOCHS-1))\n",
        "scheduler_frozen = get_constant_schedule(optimizer)\n",
        "start_epoch = 0\n",
        "frozen = True\n",
        "for child in model.phobert.children():\n",
        "  for param in child.parameters():\n",
        "    param.requires_grad = False\n",
        "\n",
        "if os.path.exists(\"history_model_2/f1_valid.txt\"):\n",
        "  with open(\"history_model_2/f1_valid.txt\") as f:\n",
        "    max_score = f.read().splitlines()\n",
        "  start_epoch = len(max_score)\n",
        "  max_score = np.array(max_score).astype(float)\n",
        "  last_score = max_score[-1]\n",
        "  max_score = np.max(max_score)\n",
        "else:\n",
        "  max_score = 0\n",
        "  last_score = 0\n",
        "\n",
        "if os.path.exists(CHECKPOINT_PATH):\n",
        "  checkpoint = torch.load(CHECKPOINT_PATH)\n",
        "  model.load_state_dict(checkpoint[\"model_state_dict\"])\n",
        "  optimizer.load_state_dict(checkpoint[\"optimizer_state_dict\"])\n",
        "  scheduler.load_state_dict(checkpoint[\"scheduler_state_dict\"])\n",
        "  loss_function.load_state_dict(checkpoint[\"loss_state_dict\"])\n",
        "\n",
        "for epoch in range(start_epoch, EPOCHS, 1):\n",
        "  if epoch > 0 and frozen:\n",
        "    for child in model.phobert.children():\n",
        "      for param in child.parameters():\n",
        "        param.requires_grad = True\n",
        "    del scheduler_frozen\n",
        "    torch.cuda.empty_cache()\n",
        "    frozen = False\n",
        "  print(\"EPOCH \", epoch+1, \"/\", EPOCHS, \":\")\n",
        "\n",
        "  if epoch == 30:\n",
        "    dict_ = optimizer.state_dict()\n",
        "    dict_['param_groups'][0]['initial_lr'] = scheduler.state_dict()['_last_lr']\n",
        "    dict_['param_groups'][0]['lr'] = scheduler.state_dict()['_last_lr']\n",
        "    optimizer.load_state_dict(dict_)\n",
        "    scheduler = get_constant_schedule(optimizer)\n",
        "\n",
        "  if frozen:\n",
        "    trainOnEpoch(train_loader=train_loader, model = model, optimizer = optimizer, loss= loss_function, num_epochs = EPOCHS, epoch = epoch, device = DEVICE, scheduler = scheduler_frozen, history=history)\n",
        "  else:\n",
        "    trainOnEpoch(train_loader=train_loader, model = model, optimizer = optimizer, loss= loss_function, num_epochs = EPOCHS, epoch = epoch,device = DEVICE, scheduler = scheduler, history= history)\n",
        "  losses, f1_classes, f1, acc = validation(test_loader, loss_function, model, DEVICE)\n",
        "  \n",
        "  print(\"EPOCH \", epoch+1, \"/\", EPOCHS, \":\", \" acc: {}, f1_score: {}\".format(acc, f1))\n",
        "\n",
        "  with open('history_model_2/loss.txt', 'a+') as f:\n",
        "    f.write(str(losses) + \"\\n\")\n",
        "  with open('history_model_2/f1_classes.txt', 'a+') as f:\n",
        "    f.write(' '.join(f1_classes.astype(str)) + \"\\n\")\n",
        "  with open(\"history_model_2/loss_train.txt\", \"a+\") as f:\n",
        "    for item in history[\"loss_train\"]:\n",
        "      f.write(str(item) + \"\\n\")\n",
        "  with open(\"history_model_2/acc_train.txt\", \"a+\") as f:\n",
        "    for item in history[\"acc_train\"]:\n",
        "      f.write(str(item) + \"\\n\")\n",
        "  with open(\"history_model_2/f1_train.txt\", \"a+\") as f:\n",
        "    for item in history[\"f1_train\"]:\n",
        "      f.write(str(item) + \"\\n\")\n",
        "  with open(\"history_model_2/acc_valid.txt\", \"a+\") as f:\n",
        "    f.write(str(acc) + \"\\n\")\n",
        "  with open(\"history_model_2/f1_valid.txt\", \"a+\") as f:\n",
        "    f.write(str(f1) + \"\\n\")\n",
        "  dict_ = {\n",
        "        \"model_state_dict\": model.state_dict(),\n",
        "        \"optimizer_state_dict\": optimizer.state_dict(),\n",
        "        \"scheduler_state_dict\": scheduler.state_dict(),\n",
        "        \"loss_state_dict\": loss_function.state_dict(),\n",
        "  }\n",
        "  torch.save(dict_, CHECKPOINT_PATH)\n",
        "  #Save model chechk point\n",
        "  if f1 > max_score:\n",
        "    torch.save(dict_, CHECKPOINT_BEST_PATH)\n",
        "    max_score = f1\n",
        "  elif f1 - last_score < -0.02:\n",
        "    break\n",
        "  last_score = f1\n",
        "  history = {\"loss_train\": [], \"acc_train\":[], \"f1_train\":[]}"
      ],
      "execution_count": 20,
      "outputs": [
        {
          "output_type": "error",
          "ename": "KeyboardInterrupt",
          "evalue": "ignored",
          "traceback": [
            "\u001b[0;31m---------------------------------------------------------------------------\u001b[0m",
            "\u001b[0;31mKeyboardInterrupt\u001b[0m                         Traceback (most recent call last)",
            "\u001b[0;32m<ipython-input-20-c7cf5f248208>\u001b[0m in \u001b[0;36m<module>\u001b[0;34m()\u001b[0m\n\u001b[1;32m     56\u001b[0m     \u001b[0mtrainOnEpoch\u001b[0m\u001b[0;34m(\u001b[0m\u001b[0mtrain_loader\u001b[0m\u001b[0;34m=\u001b[0m\u001b[0mtrain_loader\u001b[0m\u001b[0;34m,\u001b[0m \u001b[0mmodel\u001b[0m \u001b[0;34m=\u001b[0m \u001b[0mmodel\u001b[0m\u001b[0;34m,\u001b[0m \u001b[0moptimizer\u001b[0m \u001b[0;34m=\u001b[0m \u001b[0moptimizer\u001b[0m\u001b[0;34m,\u001b[0m \u001b[0mloss\u001b[0m\u001b[0;34m=\u001b[0m \u001b[0mloss_function\u001b[0m\u001b[0;34m,\u001b[0m \u001b[0mnum_epochs\u001b[0m \u001b[0;34m=\u001b[0m \u001b[0mEPOCHS\u001b[0m\u001b[0;34m,\u001b[0m \u001b[0mepoch\u001b[0m \u001b[0;34m=\u001b[0m \u001b[0mepoch\u001b[0m\u001b[0;34m,\u001b[0m \u001b[0mdevice\u001b[0m \u001b[0;34m=\u001b[0m \u001b[0mDEVICE\u001b[0m\u001b[0;34m,\u001b[0m \u001b[0mscheduler\u001b[0m \u001b[0;34m=\u001b[0m \u001b[0mscheduler_frozen\u001b[0m\u001b[0;34m,\u001b[0m \u001b[0mhistory\u001b[0m\u001b[0;34m=\u001b[0m\u001b[0mhistory\u001b[0m\u001b[0;34m)\u001b[0m\u001b[0;34m\u001b[0m\u001b[0;34m\u001b[0m\u001b[0m\n\u001b[1;32m     57\u001b[0m   \u001b[0;32melse\u001b[0m\u001b[0;34m:\u001b[0m\u001b[0;34m\u001b[0m\u001b[0;34m\u001b[0m\u001b[0m\n\u001b[0;32m---> 58\u001b[0;31m     \u001b[0mtrainOnEpoch\u001b[0m\u001b[0;34m(\u001b[0m\u001b[0mtrain_loader\u001b[0m\u001b[0;34m=\u001b[0m\u001b[0mtrain_loader\u001b[0m\u001b[0;34m,\u001b[0m \u001b[0mmodel\u001b[0m \u001b[0;34m=\u001b[0m \u001b[0mmodel\u001b[0m\u001b[0;34m,\u001b[0m \u001b[0moptimizer\u001b[0m \u001b[0;34m=\u001b[0m \u001b[0moptimizer\u001b[0m\u001b[0;34m,\u001b[0m \u001b[0mloss\u001b[0m\u001b[0;34m=\u001b[0m \u001b[0mloss_function\u001b[0m\u001b[0;34m,\u001b[0m \u001b[0mnum_epochs\u001b[0m \u001b[0;34m=\u001b[0m \u001b[0mEPOCHS\u001b[0m\u001b[0;34m,\u001b[0m \u001b[0mepoch\u001b[0m \u001b[0;34m=\u001b[0m \u001b[0mepoch\u001b[0m\u001b[0;34m,\u001b[0m\u001b[0mdevice\u001b[0m \u001b[0;34m=\u001b[0m \u001b[0mDEVICE\u001b[0m\u001b[0;34m,\u001b[0m \u001b[0mscheduler\u001b[0m \u001b[0;34m=\u001b[0m \u001b[0mscheduler\u001b[0m\u001b[0;34m,\u001b[0m \u001b[0mhistory\u001b[0m\u001b[0;34m=\u001b[0m \u001b[0mhistory\u001b[0m\u001b[0;34m)\u001b[0m\u001b[0;34m\u001b[0m\u001b[0;34m\u001b[0m\u001b[0m\n\u001b[0m\u001b[1;32m     59\u001b[0m   \u001b[0mlosses\u001b[0m\u001b[0;34m,\u001b[0m \u001b[0mf1_classes\u001b[0m\u001b[0;34m,\u001b[0m \u001b[0mf1\u001b[0m\u001b[0;34m,\u001b[0m \u001b[0macc\u001b[0m \u001b[0;34m=\u001b[0m \u001b[0mvalidation\u001b[0m\u001b[0;34m(\u001b[0m\u001b[0mtest_loader\u001b[0m\u001b[0;34m,\u001b[0m \u001b[0mloss_function\u001b[0m\u001b[0;34m,\u001b[0m \u001b[0mmodel\u001b[0m\u001b[0;34m,\u001b[0m \u001b[0mDEVICE\u001b[0m\u001b[0;34m)\u001b[0m\u001b[0;34m\u001b[0m\u001b[0;34m\u001b[0m\u001b[0m\n\u001b[1;32m     60\u001b[0m \u001b[0;34m\u001b[0m\u001b[0m\n",
            "\u001b[0;32m<ipython-input-19-5e055a0ca443>\u001b[0m in \u001b[0;36mtrainOnEpoch\u001b[0;34m(train_loader, model, optimizer, loss, num_epochs, epoch, device, scheduler, history, log_time)\u001b[0m\n\u001b[1;32m     12\u001b[0m     \u001b[0mf1\u001b[0m\u001b[0;34m,\u001b[0m \u001b[0macc\u001b[0m \u001b[0;34m=\u001b[0m \u001b[0mevaluate\u001b[0m\u001b[0;34m(\u001b[0m\u001b[0my_pred\u001b[0m\u001b[0;34m,\u001b[0m \u001b[0my_batch\u001b[0m\u001b[0;34m)\u001b[0m\u001b[0;34m\u001b[0m\u001b[0;34m\u001b[0m\u001b[0m\n\u001b[1;32m     13\u001b[0m \u001b[0;34m\u001b[0m\u001b[0m\n\u001b[0;32m---> 14\u001b[0;31m     \u001b[0mloss_value\u001b[0m\u001b[0;34m.\u001b[0m\u001b[0mbackward\u001b[0m\u001b[0;34m(\u001b[0m\u001b[0;34m)\u001b[0m\u001b[0;34m\u001b[0m\u001b[0;34m\u001b[0m\u001b[0m\n\u001b[0m\u001b[1;32m     15\u001b[0m     \u001b[0;31m#nn.utils.clip_grad_norm_(model.parameters(), max_norm = 1.0)\u001b[0m\u001b[0;34m\u001b[0m\u001b[0;34m\u001b[0m\u001b[0;34m\u001b[0m\u001b[0m\n\u001b[1;32m     16\u001b[0m     \u001b[0moptimizer\u001b[0m\u001b[0;34m.\u001b[0m\u001b[0mstep\u001b[0m\u001b[0;34m(\u001b[0m\u001b[0;34m)\u001b[0m\u001b[0;34m\u001b[0m\u001b[0;34m\u001b[0m\u001b[0m\n",
            "\u001b[0;32m/usr/local/lib/python3.7/dist-packages/torch/_tensor.py\u001b[0m in \u001b[0;36mbackward\u001b[0;34m(self, gradient, retain_graph, create_graph, inputs)\u001b[0m\n\u001b[1;32m    253\u001b[0m                 \u001b[0mcreate_graph\u001b[0m\u001b[0;34m=\u001b[0m\u001b[0mcreate_graph\u001b[0m\u001b[0;34m,\u001b[0m\u001b[0;34m\u001b[0m\u001b[0;34m\u001b[0m\u001b[0m\n\u001b[1;32m    254\u001b[0m                 inputs=inputs)\n\u001b[0;32m--> 255\u001b[0;31m         \u001b[0mtorch\u001b[0m\u001b[0;34m.\u001b[0m\u001b[0mautograd\u001b[0m\u001b[0;34m.\u001b[0m\u001b[0mbackward\u001b[0m\u001b[0;34m(\u001b[0m\u001b[0mself\u001b[0m\u001b[0;34m,\u001b[0m \u001b[0mgradient\u001b[0m\u001b[0;34m,\u001b[0m \u001b[0mretain_graph\u001b[0m\u001b[0;34m,\u001b[0m \u001b[0mcreate_graph\u001b[0m\u001b[0;34m,\u001b[0m \u001b[0minputs\u001b[0m\u001b[0;34m=\u001b[0m\u001b[0minputs\u001b[0m\u001b[0;34m)\u001b[0m\u001b[0;34m\u001b[0m\u001b[0;34m\u001b[0m\u001b[0m\n\u001b[0m\u001b[1;32m    256\u001b[0m \u001b[0;34m\u001b[0m\u001b[0m\n\u001b[1;32m    257\u001b[0m     \u001b[0;32mdef\u001b[0m \u001b[0mregister_hook\u001b[0m\u001b[0;34m(\u001b[0m\u001b[0mself\u001b[0m\u001b[0;34m,\u001b[0m \u001b[0mhook\u001b[0m\u001b[0;34m)\u001b[0m\u001b[0;34m:\u001b[0m\u001b[0;34m\u001b[0m\u001b[0;34m\u001b[0m\u001b[0m\n",
            "\u001b[0;32m/usr/local/lib/python3.7/dist-packages/torch/autograd/__init__.py\u001b[0m in \u001b[0;36mbackward\u001b[0;34m(tensors, grad_tensors, retain_graph, create_graph, grad_variables, inputs)\u001b[0m\n\u001b[1;32m    147\u001b[0m     Variable._execution_engine.run_backward(\n\u001b[1;32m    148\u001b[0m         \u001b[0mtensors\u001b[0m\u001b[0;34m,\u001b[0m \u001b[0mgrad_tensors_\u001b[0m\u001b[0;34m,\u001b[0m \u001b[0mretain_graph\u001b[0m\u001b[0;34m,\u001b[0m \u001b[0mcreate_graph\u001b[0m\u001b[0;34m,\u001b[0m \u001b[0minputs\u001b[0m\u001b[0;34m,\u001b[0m\u001b[0;34m\u001b[0m\u001b[0;34m\u001b[0m\u001b[0m\n\u001b[0;32m--> 149\u001b[0;31m         allow_unreachable=True, accumulate_grad=True)  # allow_unreachable flag\n\u001b[0m\u001b[1;32m    150\u001b[0m \u001b[0;34m\u001b[0m\u001b[0m\n\u001b[1;32m    151\u001b[0m \u001b[0;34m\u001b[0m\u001b[0m\n",
            "\u001b[0;31mKeyboardInterrupt\u001b[0m: "
          ]
        }
      ]
    },
    {
      "cell_type": "code",
      "metadata": {
        "id": "n-n3Os-S0zWz"
      },
      "source": [
        ""
      ],
      "execution_count": null,
      "outputs": []
    }
  ]
}