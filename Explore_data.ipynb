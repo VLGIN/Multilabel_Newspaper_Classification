{
  "nbformat": 4,
  "nbformat_minor": 0,
  "metadata": {
    "colab": {
      "name": "Explore_data_full_length.ipynb",
      "provenance": [],
      "collapsed_sections": []
    },
    "kernelspec": {
      "name": "python3",
      "display_name": "Python 3"
    },
    "language_info": {
      "name": "python"
    }
  },
  "cells": [
    {
      "cell_type": "code",
      "metadata": {
        "colab": {
          "base_uri": "https://localhost:8080/"
        },
        "id": "cE1nCYkiia7A",
        "outputId": "71ef5be4-f924-4041-b5c3-38263ec97855"
      },
      "source": [
        "from google.colab import drive\n",
        "drive.mount(\"/content/drive\")\n",
        "import os\n",
        "os.chdir(\"/content/drive/MyDrive/BERT\")\n",
        "import re\n",
        "import numpy as np\n",
        "from matplotlib import pyplot as plt\n",
        "import random"
      ],
      "execution_count": 1,
      "outputs": [
        {
          "output_type": "stream",
          "text": [
            "Drive already mounted at /content/drive; to attempt to forcibly remount, call drive.mount(\"/content/drive\", force_remount=True).\n"
          ],
          "name": "stdout"
        }
      ]
    },
    {
      "cell_type": "code",
      "metadata": {
        "id": "uaZlqbjkut1z",
        "colab": {
          "base_uri": "https://localhost:8080/"
        },
        "outputId": "283703f5-df43-47d2-f182-dc83bd6fd53b"
      },
      "source": [
        "!pip install vncorenlp\n",
        "from vncorenlp import VnCoreNLP"
      ],
      "execution_count": 2,
      "outputs": [
        {
          "output_type": "stream",
          "text": [
            "Requirement already satisfied: vncorenlp in /usr/local/lib/python3.7/dist-packages (1.0.3)\n",
            "Requirement already satisfied: requests in /usr/local/lib/python3.7/dist-packages (from vncorenlp) (2.23.0)\n",
            "Requirement already satisfied: urllib3!=1.25.0,!=1.25.1,<1.26,>=1.21.1 in /usr/local/lib/python3.7/dist-packages (from requests->vncorenlp) (1.24.3)\n",
            "Requirement already satisfied: chardet<4,>=3.0.2 in /usr/local/lib/python3.7/dist-packages (from requests->vncorenlp) (3.0.4)\n",
            "Requirement already satisfied: certifi>=2017.4.17 in /usr/local/lib/python3.7/dist-packages (from requests->vncorenlp) (2021.5.30)\n",
            "Requirement already satisfied: idna<3,>=2.5 in /usr/local/lib/python3.7/dist-packages (from requests->vncorenlp) (2.10)\n"
          ],
          "name": "stdout"
        }
      ]
    },
    {
      "cell_type": "markdown",
      "metadata": {
        "id": "Tu6QLLn3i840"
      },
      "source": [
        "# Read data"
      ]
    },
    {
      "cell_type": "code",
      "metadata": {
        "id": "WwZyJ0DYi1wS"
      },
      "source": [
        "def read_data(path):\n",
        "  with open(path) as f:\n",
        "    data = f.read().splitlines()\n",
        "  return data"
      ],
      "execution_count": 3,
      "outputs": []
    },
    {
      "cell_type": "code",
      "metadata": {
        "id": "UANCGgpcjLPu"
      },
      "source": [
        "data = read_data(\"SmallDataset/data.txt\")\n",
        "label = read_data(\"SmallDataset/label.txt\")"
      ],
      "execution_count": 4,
      "outputs": []
    },
    {
      "cell_type": "code",
      "metadata": {
        "colab": {
          "base_uri": "https://localhost:8080/"
        },
        "id": "mgZG5e54jXbz",
        "outputId": "820c5b51-a870-4ade-d1ab-f797b204c163"
      },
      "source": [
        "for i in range(5):\n",
        "  print(\"text: \", data[i], \"\\nlabel: \", label[i])"
      ],
      "execution_count": 5,
      "outputs": [
        {
          "output_type": "stream",
          "text": [
            "text:  Việc để bàn làm việc ngăn nắp cũng thể hiện thái độ làm việc cẩn thận và phong cách chuyên nghiệp của bạn. \n",
            "label:  Đời sống.txt\n",
            "text:  Có lẽ vì nằm ở vùng cồn bãi hẻo lánh nên ông chủ lò này cứ vô tư làm thịt khỉ ngay sân nhà không hề che đậy. \n",
            "label:  Khoa học.txt\n",
            "text:  Taylor Swift đã gửi tặng người hâm mộ món quà nhỏ nhưng vô cùng ngọt ngào là hoa và thiệp mừng nhân ngày cưới của họ. \n",
            "label:  Giải trí.txt\n",
            "text:  Trong buổi họp báo tại Copenhagen (Đan Mạch) ngày 23-1, cựu lãnh đạo ly khai vùng Catalonia để ngỏ khả năng trở về Tây Ban Nha nhưng tuyên bố việc ông một lần nữa lên nắm quyền là điều tốt cho nền dân chủ nước này. \n",
            "label:  Thế giới.txt\n",
            "text:  Theo thông tin từ TAND TP Hà Nội, vào ngày 28/8 tới, cơ quan này sẽ mở lại phiên tòa sơ thẩm xét xử bị cáo Hà Văn Thắm (SN 1972) - nguyên Chủ tịch HĐQT Ngân hàng TMCP Đại Dương (Oceanbank) cùng các đồng phạm do liên quan đến sai phạm xảy ra tại ngân hàng này. \n",
            "label:  None.txt\n"
          ],
          "name": "stdout"
        }
      ]
    },
    {
      "cell_type": "markdown",
      "metadata": {
        "id": "sgKPjxzHstHh"
      },
      "source": [
        "# Clear data:\n",
        "\n",
        "Remove special character that doesn't have particular meaning.\n",
        "\n",
        "Remove http link.\n",
        "\n",
        "Remove \", ', (, ).\n",
        "\n",
        "Remove end line character \"\\n\".\n",
        "\n",
        "Remove consecutive punctuation marks.\n",
        "\n",
        "Tokenize text."
      ]
    },
    {
      "cell_type": "code",
      "metadata": {
        "id": "Kpu_Y6e_tD_Z"
      },
      "source": [
        "def clear_text(data):\n",
        "  result = []\n",
        "  for item in data:\n",
        "    text = re.sub(r'@[A-Za-z0-9]+', '', item)\n",
        "    #text = re.sub(r\"[#&/-]\", \"\", text)\n",
        "    text = re.sub(r\"[()]\", \"\",text)\n",
        "    text = re.sub(r\"[\\'\\\"]\", \"\", text)\n",
        "    text = re.sub(r'^https?:\\/\\/.*[\\r\\n]*', '', text)\n",
        "    #text = re.sub(r\"[0-9]+\", '', text)\n",
        "    text = text.replace(\"\\n\", \".\")\n",
        "    result.append(text)\n",
        "  return result"
      ],
      "execution_count": 6,
      "outputs": []
    },
    {
      "cell_type": "code",
      "metadata": {
        "colab": {
          "base_uri": "https://localhost:8080/"
        },
        "id": "3IudDe2wt0i5",
        "outputId": "7735df2a-f541-4be2-d1a8-1fd91a0533b3"
      },
      "source": [
        "clear_data = clear_text(data)\n",
        "\n",
        "for i in range(5):\n",
        "  print(\"text: \", clear_data[i], \"\\nlabel: \", label[i])"
      ],
      "execution_count": 7,
      "outputs": [
        {
          "output_type": "stream",
          "text": [
            "text:  Việc để bàn làm việc ngăn nắp cũng thể hiện thái độ làm việc cẩn thận và phong cách chuyên nghiệp của bạn. \n",
            "label:  Đời sống.txt\n",
            "text:  Có lẽ vì nằm ở vùng cồn bãi hẻo lánh nên ông chủ lò này cứ vô tư làm thịt khỉ ngay sân nhà không hề che đậy. \n",
            "label:  Khoa học.txt\n",
            "text:  Taylor Swift đã gửi tặng người hâm mộ món quà nhỏ nhưng vô cùng ngọt ngào là hoa và thiệp mừng nhân ngày cưới của họ. \n",
            "label:  Giải trí.txt\n",
            "text:  Trong buổi họp báo tại Copenhagen Đan Mạch ngày 23-1, cựu lãnh đạo ly khai vùng Catalonia để ngỏ khả năng trở về Tây Ban Nha nhưng tuyên bố việc ông một lần nữa lên nắm quyền là điều tốt cho nền dân chủ nước này. \n",
            "label:  Thế giới.txt\n",
            "text:  Theo thông tin từ TAND TP Hà Nội, vào ngày 28/8 tới, cơ quan này sẽ mở lại phiên tòa sơ thẩm xét xử bị cáo Hà Văn Thắm SN 1972 - nguyên Chủ tịch HĐQT Ngân hàng TMCP Đại Dương Oceanbank cùng các đồng phạm do liên quan đến sai phạm xảy ra tại ngân hàng này. \n",
            "label:  None.txt\n"
          ],
          "name": "stdout"
        }
      ]
    },
    {
      "cell_type": "code",
      "metadata": {
        "id": "T75Gac-mnR7p"
      },
      "source": [
        "def remove_consecutive_punctuation_mark(data):\n",
        "  result = []\n",
        "  for text in data:\n",
        "    text = \"\".join(re.split(r\"([.,/#!$%^&*;:{}=_`~()-])[.,/#!$%^&*;:{}=_`~()-]+\", text))\n",
        "    result.append(text)\n",
        "  return result"
      ],
      "execution_count": 8,
      "outputs": []
    },
    {
      "cell_type": "code",
      "metadata": {
        "id": "LWhNjXp7nqIz"
      },
      "source": [
        "no_consecutive_punctuation_mark = remove_consecutive_punctuation_mark(clear_data)"
      ],
      "execution_count": 9,
      "outputs": []
    },
    {
      "cell_type": "code",
      "metadata": {
        "id": "N3CkEiG8uqri"
      },
      "source": [
        "tokenizer = VnCoreNLP(\"vncorenlp/VnCoreNLP-1.1.1.jar\", annotators=\"wseg\", max_heap_size='-Xmx500m')"
      ],
      "execution_count": 10,
      "outputs": []
    },
    {
      "cell_type": "code",
      "metadata": {
        "id": "7HTmjOc9Ua_7"
      },
      "source": [
        "from tqdm import tqdm"
      ],
      "execution_count": 11,
      "outputs": []
    },
    {
      "cell_type": "code",
      "metadata": {
        "id": "Rse9cdHYu_Od"
      },
      "source": [
        "def tokenize_data(data):\n",
        "  result = []\n",
        "  ids = []\n",
        "  for ind, item in tqdm(enumerate(data), total=len(data)):\n",
        "    text = tokenizer.tokenize(item)\n",
        "    res = \"\"\n",
        "    try:\n",
        "      for words in text[0]:\n",
        "        if words in [\".\", \",\", \";\", \"!\", \"?\", \":\"]:\n",
        "          res += words\n",
        "        else:\n",
        "          res += \" \" + words\n",
        "      result.append(res)\n",
        "      ids.append(ind)\n",
        "    except:\n",
        "      pass\n",
        "  return ids, result"
      ],
      "execution_count": 12,
      "outputs": []
    },
    {
      "cell_type": "code",
      "metadata": {
        "id": "HTZpgDpGvGvM",
        "outputId": "9670a76f-7951-4138-e30e-db1cfd9f9353",
        "colab": {
          "base_uri": "https://localhost:8080/"
        }
      },
      "source": [
        "ids, tokenized_data = tokenize_data(no_consecutive_punctuation_mark)"
      ],
      "execution_count": 13,
      "outputs": [
        {
          "output_type": "stream",
          "text": [
            "100%|██████████| 200000/200000 [10:07<00:00, 329.17it/s]\n"
          ],
          "name": "stderr"
        }
      ]
    },
    {
      "cell_type": "code",
      "metadata": {
        "colab": {
          "base_uri": "https://localhost:8080/"
        },
        "id": "ic09OWNVvLxZ",
        "outputId": "003dc338-1f68-4760-fbbe-0e98f2181ab2"
      },
      "source": [
        "random.sample(tokenized_data, 10)"
      ],
      "execution_count": 14,
      "outputs": [
        {
          "output_type": "execute_result",
          "data": {
            "text/plain": [
              "[' Chính vì_vậy, các nhà_nghiên_cứu cần phải tìm_kiếm thêm nhiều tác_nhân gắn vào gen nhạy sáng đối_với các cường_độ ánh_sáng khác nhau, thậm_chí phải chế_tạo ra những loại kính đeo mắt đặc_biệt để giúp tập_trung ánh_sáng giống như chiếc máy_ảnh tự_động vậy.',\n",
              " ' Tromso có 60 đêm Bắc_Cực vào mùa Đông, khi Mặt_Trời không_thể nhô lên quá đường chân_trời; đồng_thời cũng có đến 60 ngày Mặt_Trời không lặn với những buổi hoà_nhạc bắt_đầu lúc nửa_đêm, khi ánh nắng vẫn chan_hoà khắp chốn.',\n",
              " ' Theo bà Mai, sau khi phân_tích hồ_sơ bệnh_án, nghe báo_cáo của các bệnh_viện liên_quan, hội_đồng chuyên_môn kết_luận chị Quý 22 tuổi tử_vong là do hệ_thống lupus ban đỏ tiềm_ẩn trên thai_phụ bùng_phát cấp_tính.',\n",
              " ' Paul là một trong những nơi lạnh nhất ở Mỹ, cũng là một trong những điểm ngắm tuyết ngoạn_mục nhất thu_hút hàng ngàn du_khách mỗi năm.',\n",
              " ' Với 5 chức vô_địch giành được ở các nội_dung thi_đấu, điền_kinh Việt_Nam đã trải qua_ngày thi_đấu thành_công nhất từ đầu SEA_Games 29.',\n",
              " ' Nhược_điểm của Kia_Rio chính là khoảng sáng gầm xe tương_đối thấp 140 mm, trang_bị điều_hoà chỉnh tay, không có tính_năng điện_thoại rảnh tay, không có cảm_biến lùi, Khi chạy tốc_độ cao, xe bị chao_đảo và khả_năng vào cua kém.',\n",
              " ' Các hạng_mục đã hoàn_thành của chương_trình cải_tiến vũ_khí trang_bị kỹ_thuật như: Cải_tiến xe_tăng T-54 B, ra-đa P18, tên_lửa chống tăng B-72, tên_lửa Kh-29 T / L, tự_động_hoá dàn phóng và tăng tầm đạn hoả_tiễn BM-21, đi-ê-den hoá xe ô_tô quân_sự, xe thiết_giáp bánh lốp BTR-152. đưa vào ứng_dụng, phát_huy hiệu_quả rõ_rệt.',\n",
              " ' Việc chỉnh_sửa độc_lập tách_biệt cả 3 luật là không hợp_lý, lại càng không_thể chấp_nhận việc sửa_đổi các luật chuyên_ngành trước luật mẹ tức Luật_Giáo_dục như đã từng làm thời_gian qua.',\n",
              " ' Theo tìm_hiểu thực_tế, anh Vinh phản_ánh 7 lần đưa xe Wave Alpha đi sửa_chữa nhưng trong số bảo_hành xe của anh chỉ ghi có 4 lần.',\n",
              " ' Thiết_nghĩ, công_tác phối_hợp giữa chính_quyền các địa_phương và các đơn_vị chức_năng cần được triển_khai đồng_bộ, chặt_chẽ nhằm điều_tra xác_định thủ_phạm, cũng như giải_quyết số rác, đất, đá thải tồn_đọng dọc hành_lang giao_thông của các tuyến phố nói trên.']"
            ]
          },
          "metadata": {
            "tags": []
          },
          "execution_count": 14
        }
      ]
    },
    {
      "cell_type": "code",
      "metadata": {
        "id": "KQUpw2jQZOtj"
      },
      "source": [
        "label = np.array(label)\n",
        "label = label[ids]"
      ],
      "execution_count": 15,
      "outputs": []
    },
    {
      "cell_type": "markdown",
      "metadata": {
        "id": "Vu3ft8uKjnb2"
      },
      "source": [
        "# Explore data:\n",
        "Plot data length."
      ]
    },
    {
      "cell_type": "code",
      "metadata": {
        "id": "_ff1G5xVji1A"
      },
      "source": [
        "# get text_length\n",
        "len_data = np.array([len(text.split()) for text in tokenized_data])"
      ],
      "execution_count": 16,
      "outputs": []
    },
    {
      "cell_type": "code",
      "metadata": {
        "colab": {
          "base_uri": "https://localhost:8080/"
        },
        "id": "2opGEFc2kTjI",
        "outputId": "0cee37e9-f447-4881-8d98-3fa9e585682e"
      },
      "source": [
        "np.mean(len_data), np.var(len_data)"
      ],
      "execution_count": 17,
      "outputs": [
        {
          "output_type": "execute_result",
          "data": {
            "text/plain": [
              "(29.19038571157135, 187.43439740015305)"
            ]
          },
          "metadata": {
            "tags": []
          },
          "execution_count": 17
        }
      ]
    },
    {
      "cell_type": "code",
      "metadata": {
        "colab": {
          "base_uri": "https://localhost:8080/",
          "height": 399
        },
        "id": "ShkOuVhOjyhD",
        "outputId": "b4c4e857-15b6-44dc-f1c2-8f76d9126077"
      },
      "source": [
        "plt.boxplot(len_data, showmeans=True)"
      ],
      "execution_count": 18,
      "outputs": [
        {
          "output_type": "execute_result",
          "data": {
            "text/plain": [
              "{'boxes': [<matplotlib.lines.Line2D at 0x7f52bb32b110>],\n",
              " 'caps': [<matplotlib.lines.Line2D at 0x7f52bb336190>,\n",
              "  <matplotlib.lines.Line2D at 0x7f52bb3366d0>],\n",
              " 'fliers': [<matplotlib.lines.Line2D at 0x7f52bb33d710>],\n",
              " 'means': [<matplotlib.lines.Line2D at 0x7f52b4e18690>],\n",
              " 'medians': [<matplotlib.lines.Line2D at 0x7f52bb336c50>],\n",
              " 'whiskers': [<matplotlib.lines.Line2D at 0x7f52bb32b6d0>,\n",
              "  <matplotlib.lines.Line2D at 0x7f52bb32bc10>]}"
            ]
          },
          "metadata": {
            "tags": []
          },
          "execution_count": 18
        },
        {
          "output_type": "display_data",
          "data": {
            "image/png": "[encoded data removed]",
            "text/plain": [
              "<Figure size 432x288 with 1 Axes>"
            ]
          },
          "metadata": {
            "tags": [],
            "needs_background": "light"
          }
        }
      ]
    },
    {
      "cell_type": "code",
      "metadata": {
        "id": "hJN9h4ik8r7h"
      },
      "source": [
        "len2 = [len_text for len_text in len_data if len_text < 1000]"
      ],
      "execution_count": 19,
      "outputs": []
    },
    {
      "cell_type": "code",
      "metadata": {
        "colab": {
          "base_uri": "https://localhost:8080/",
          "height": 399
        },
        "id": "h6VgkmhM9An2",
        "outputId": "873d3108-7f35-4f49-9b56-1f745ebb0a8e"
      },
      "source": [
        "plt.boxplot(len2, showmeans = True)"
      ],
      "execution_count": 20,
      "outputs": [
        {
          "output_type": "execute_result",
          "data": {
            "text/plain": [
              "{'boxes': [<matplotlib.lines.Line2D at 0x7f52ba845090>],\n",
              " 'caps': [<matplotlib.lines.Line2D at 0x7f52ba84b090>,\n",
              "  <matplotlib.lines.Line2D at 0x7f52ba84b5d0>],\n",
              " 'fliers': [<matplotlib.lines.Line2D at 0x7f52ba854610>],\n",
              " 'means': [<matplotlib.lines.Line2D at 0x7f52ba8540d0>],\n",
              " 'medians': [<matplotlib.lines.Line2D at 0x7f52ba84bb50>],\n",
              " 'whiskers': [<matplotlib.lines.Line2D at 0x7f52ba8455d0>,\n",
              "  <matplotlib.lines.Line2D at 0x7f52ba845b10>]}"
            ]
          },
          "metadata": {
            "tags": []
          },
          "execution_count": 20
        },
        {
          "output_type": "display_data",
          "data": {
            "image/png": "[encoded data removed]",
            "text/plain": [
              "<Figure size 432x288 with 1 Axes>"
            ]
          },
          "metadata": {
            "tags": [],
            "needs_background": "light"
          }
        }
      ]
    },
    {
      "cell_type": "code",
      "metadata": {
        "colab": {
          "base_uri": "https://localhost:8080/",
          "height": 567
        },
        "id": "_xTbGklEkE7g",
        "outputId": "e1224c18-3909-4f1e-f1c6-c729f8a63f25"
      },
      "source": [
        "plt.hist(len2, bins = 50)"
      ],
      "execution_count": 21,
      "outputs": [
        {
          "output_type": "execute_result",
          "data": {
            "text/plain": [
              "(array([2.46120e+04, 1.36946e+05, 3.03440e+04, 5.71200e+03, 1.43100e+03,\n",
              "        4.89000e+02, 2.21000e+02, 8.90000e+01, 5.20000e+01, 3.60000e+01,\n",
              "        2.20000e+01, 1.10000e+01, 6.00000e+00, 5.00000e+00, 3.00000e+00,\n",
              "        0.00000e+00, 1.00000e+00, 3.00000e+00, 3.00000e+00, 3.00000e+00,\n",
              "        0.00000e+00, 1.00000e+00, 0.00000e+00, 1.00000e+00, 0.00000e+00,\n",
              "        0.00000e+00, 0.00000e+00, 1.00000e+00, 0.00000e+00, 0.00000e+00,\n",
              "        0.00000e+00, 0.00000e+00, 0.00000e+00, 0.00000e+00, 0.00000e+00,\n",
              "        0.00000e+00, 0.00000e+00, 0.00000e+00, 0.00000e+00, 0.00000e+00,\n",
              "        0.00000e+00, 0.00000e+00, 0.00000e+00, 0.00000e+00, 0.00000e+00,\n",
              "        0.00000e+00, 0.00000e+00, 0.00000e+00, 0.00000e+00, 1.00000e+00]),\n",
              " array([  1.  ,  18.92,  36.84,  54.76,  72.68,  90.6 , 108.52, 126.44,\n",
              "        144.36, 162.28, 180.2 , 198.12, 216.04, 233.96, 251.88, 269.8 ,\n",
              "        287.72, 305.64, 323.56, 341.48, 359.4 , 377.32, 395.24, 413.16,\n",
              "        431.08, 449.  , 466.92, 484.84, 502.76, 520.68, 538.6 , 556.52,\n",
              "        574.44, 592.36, 610.28, 628.2 , 646.12, 664.04, 681.96, 699.88,\n",
              "        717.8 , 735.72, 753.64, 771.56, 789.48, 807.4 , 825.32, 843.24,\n",
              "        861.16, 879.08, 897.  ]),\n",
              " <a list of 50 Patch objects>)"
            ]
          },
          "metadata": {
            "tags": []
          },
          "execution_count": 21
        },
        {
          "output_type": "display_data",
          "data": {
            "image/png": "[encoded data removed]",
            "text/plain": [
              "<Figure size 432x288 with 1 Axes>"
            ]
          },
          "metadata": {
            "tags": [],
            "needs_background": "light"
          }
        }
      ]
    },
    {
      "cell_type": "markdown",
      "metadata": {
        "id": "I5nYJytSlIFh"
      },
      "source": [
        "Most of data example has length less than 70.\n",
        "\n",
        "Mean of length is 32.605.\n",
        "\n",
        "It's seem like a good idea to just work with short text and truncate long text into multiple texts.\n",
        "\n",
        "# Process new data with max_length of 62 words."
      ]
    },
    {
      "cell_type": "code",
      "metadata": {
        "id": "qWoK47hRkJZk"
      },
      "source": [
        "# def process_data(data):\n",
        "#   result = []\n",
        "#   ind = []\n",
        "#   for id, text in enumerate(data):\n",
        "#     len_text = len(text.split())\n",
        "#     if len_text > 62:\n",
        "#       new_text = \" \".join(text.split()[:62])\n",
        "#       result.append(new_text)\n",
        "#       ind.append(id)\n",
        "#     else:\n",
        "#       result.append(text)\n",
        "#   return ind, result"
      ],
      "execution_count": 22,
      "outputs": []
    },
    {
      "cell_type": "code",
      "metadata": {
        "id": "ue__O_HimTIz"
      },
      "source": [
        "# ind, short_data = process_data(tokenized_data)"
      ],
      "execution_count": 23,
      "outputs": []
    },
    {
      "cell_type": "code",
      "metadata": {
        "id": "KYDhm76GmXMb"
      },
      "source": [
        "# for i in range(5):\n",
        "#   print(\"text: \", short_data[ind[i]], \"\\nlabel\", label[ind[i]])"
      ],
      "execution_count": 24,
      "outputs": []
    },
    {
      "cell_type": "code",
      "metadata": {
        "id": "oWyWWFJlmc4K"
      },
      "source": [
        "final_data = remove_consecutive_punctuation_mark(tokenized_data)"
      ],
      "execution_count": 25,
      "outputs": []
    },
    {
      "cell_type": "code",
      "metadata": {
        "id": "QQtZZIN72T_u"
      },
      "source": [
        "def punctuation_split(data):\n",
        "  result = []\n",
        "  for text in tqdm(data, total=len(data)):\n",
        "    res_text = \"\"\n",
        "    for char in text:\n",
        "      if char in [\".\", \",\", \";\", \"!\", \"?\", \":\"]:\n",
        "        res_text += \" \" + char\n",
        "      else:\n",
        "        res_text += char\n",
        "    result.append(res_text)\n",
        "  return result"
      ],
      "execution_count": 26,
      "outputs": []
    },
    {
      "cell_type": "code",
      "metadata": {
        "id": "sfSOanZJ3vUY",
        "outputId": "501888dd-5b32-4726-da6c-f45946f8ff2d",
        "colab": {
          "base_uri": "https://localhost:8080/"
        }
      },
      "source": [
        "final_data = punctuation_split(final_data)"
      ],
      "execution_count": 27,
      "outputs": [
        {
          "output_type": "stream",
          "text": [
            "100%|██████████| 199994/199994 [00:08<00:00, 24838.23it/s]\n"
          ],
          "name": "stderr"
        }
      ]
    },
    {
      "cell_type": "code",
      "metadata": {
        "colab": {
          "base_uri": "https://localhost:8080/"
        },
        "id": "4j7lfpXM304W",
        "outputId": "dd90b762-4bf1-49c6-8299-cf88c8b9daf4"
      },
      "source": [
        "len(final_data)"
      ],
      "execution_count": 28,
      "outputs": [
        {
          "output_type": "execute_result",
          "data": {
            "text/plain": [
              "199994"
            ]
          },
          "metadata": {
            "tags": []
          },
          "execution_count": 28
        }
      ]
    },
    {
      "cell_type": "code",
      "metadata": {
        "id": "y_Ur8R8jdT65",
        "outputId": "8aa6cfd9-e1e0-412c-dc67-677f5a9eb6ab",
        "colab": {
          "base_uri": "https://localhost:8080/"
        }
      },
      "source": [
        "random.sample(final_data, 5)"
      ],
      "execution_count": 29,
      "outputs": [
        {
          "output_type": "execute_result",
          "data": {
            "text/plain": [
              "[' Với tốc_độ 40 km/h , thu gọn người suốt quãng đường dài gần 90 km là một thử_thách lớn với bất_cứ tay_lái nào .',\n",
              " ' Các chất trung vi_lượng sẽ giúp chống khô cành , vàng_lá , rụng hoa , rụng trái trên cây cà_phê , điều , hồ_tiêu , giúp tăng khả_năng chống chịu sâu_bệnh , nâng cao năng_suất và phẩm_chất nông_sản .',\n",
              " ' Do số_lượng lợn chết quá nhiều , trong chiều nay lực_lượng chức_năng mới tiêu_huỷ được khoảng 300 con .',\n",
              " ' Vì là người gốc Nepal nên Pradhan sẽ triển_khai một chương_trình thử_nghiệm khá lớn tại Nepal vào tháng 11 năm nay .',\n",
              " ' Mọi sự chú_ý tại khoá họp Đại_Hội_đồng LHQ năm nay tập_trung chủ_yếu vào Tổng_thống Donald_Trump , người đã có bài phát_biểu dài 40 phút về an_ninh , chủ_quyền và chống khủng_bố .']"
            ]
          },
          "metadata": {
            "tags": []
          },
          "execution_count": 29
        }
      ]
    },
    {
      "cell_type": "markdown",
      "metadata": {
        "id": "BaUq4POI9G43"
      },
      "source": [
        "# Save dataset with two versions.\n",
        "Large version: With all about 200000 texts.\n",
        "\n",
        "Small version: With 80000 texts."
      ]
    },
    {
      "cell_type": "code",
      "metadata": {
        "id": "0yRE1oUt8cVC"
      },
      "source": [
        "def write_data(data, path):\n",
        "  with open(path, \"w+\") as f:\n",
        "    for item in data:\n",
        "      f.write(item + \"\\n\") "
      ],
      "execution_count": 30,
      "outputs": []
    },
    {
      "cell_type": "code",
      "metadata": {
        "id": "XfKcO5BZ9tg_"
      },
      "source": [
        "# get small version by shuffle and get sample\n",
        "c = list(zip(final_data, label))\n",
        "random.shuffle(c)\n",
        "final_data, label = zip(* c)\n",
        "\n",
        "small_version_data, small_version_label = final_data[:80000], label[:80000]"
      ],
      "execution_count": 31,
      "outputs": []
    },
    {
      "cell_type": "code",
      "metadata": {
        "id": "0qCF04WS92in"
      },
      "source": [
        "write_data(final_data, \"200k_dataset/data.txt\")\n",
        "write_data(label, \"200k_dataset/label.txt\")\n",
        "\n",
        "write_data(small_version_data, \"80k_dataset/data.txt\")\n",
        "write_data(small_version_label, \"80k_dataset/label.txt\")"
      ],
      "execution_count": 32,
      "outputs": []
    },
    {
      "cell_type": "code",
      "metadata": {
        "id": "YqN_6b6PzjeE"
      },
      "source": [
        ""
      ],
      "execution_count": 32,
      "outputs": []
    }
  ]
}