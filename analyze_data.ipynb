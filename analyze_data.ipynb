{
  "nbformat": 4,
  "nbformat_minor": 5,
  "metadata": {
    "kernelspec": {
      "display_name": "Python 3",
      "language": "python",
      "name": "python3"
    },
    "language_info": {
      "codemirror_mode": {
        "name": "ipython",
        "version": 3
      },
      "file_extension": ".py",
      "mimetype": "text/x-python",
      "name": "python",
      "nbconvert_exporter": "python",
      "pygments_lexer": "ipython3",
      "version": "3.9.4"
    },
    "colab": {
      "name": "analyze_data.ipynb",
      "provenance": []
    }
  },
  "cells": [
    {
      "cell_type": "code",
      "metadata": {
        "id": "c835ed76"
      },
      "source": [
        "from google.colab import drive\n",
        "drive.mount(\"/content/drive\")\n",
        "import os\n",
        "os.chdir(\"/content/drive/MyDrive/BERT\")\n",
        "!pip install transformers\n",
        "from transformers import AutoTokenizer\n",
        "import re\n",
        "import pandas as pd\n",
        "import numpy as np\n",
        "import random\n",
        "import torch\n",
        "from sklearn.preprocessing import LabelEncoder\n",
        "from tqdm import tqdm\n",
        "from matplotlib import pyplot as plt"
      ],
      "id": "c835ed76",
      "execution_count": null,
      "outputs": []
    },
    {
      "cell_type": "markdown",
      "metadata": {
        "id": "EHgsEPzVpb_1"
      },
      "source": [
        "# Read data"
      ],
      "id": "EHgsEPzVpb_1"
    },
    {
      "cell_type": "code",
      "metadata": {
        "id": "mnpTfONTkcXv"
      },
      "source": [
        "train_dataset = pd.read_csv(\"dataset_original.csv\")\n",
        "train_data = train_dataset[\"data\"].values\n",
        "train_label = train_dataset[\"label\"].values\n",
        "\n",
        "test_dataset = pd.read_csv(\"test_file.csv\")\n",
        "test_data = test_dataset[\"data\"].values\n",
        "test_label = test_dataset[\"label\"].values"
      ],
      "id": "mnpTfONTkcXv",
      "execution_count": 4,
      "outputs": []
    },
    {
      "cell_type": "code",
      "metadata": {
        "id": "AiN6eV1UlEB2"
      },
      "source": [
        "data = list(train_data) + list(test_data)\n",
        "label = list(train_label) + list(test_label) "
      ],
      "id": "AiN6eV1UlEB2",
      "execution_count": 6,
      "outputs": []
    },
    {
      "cell_type": "markdown",
      "metadata": {
        "id": "cUysya93pe_o"
      },
      "source": [
        "# Tokenzie data with pretrained phobert"
      ],
      "id": "cUysya93pe_o"
    },
    {
      "cell_type": "code",
      "metadata": {
        "id": "xnsACsPyl0q7"
      },
      "source": [
        "tokenizer = AutoTokenizer.from_pretrained(\"vinai/phobert-base\")"
      ],
      "id": "xnsACsPyl0q7",
      "execution_count": null,
      "outputs": []
    },
    {
      "cell_type": "code",
      "metadata": {
        "id": "UN-PXDwImFhf"
      },
      "source": [
        "def encode_data(data, tokenizer):\n",
        "  result = []\n",
        "  for text in tqdm(data, total=len(data)):\n",
        "    temp = tokenizer.encode(text)\n",
        "    result.append(temp)\n",
        "  return result"
      ],
      "id": "UN-PXDwImFhf",
      "execution_count": 10,
      "outputs": []
    },
    {
      "cell_type": "code",
      "metadata": {
        "colab": {
          "base_uri": "https://localhost:8080/"
        },
        "id": "ZlvBuMMAmVwA",
        "outputId": "b0182561-8db8-4ded-f5f0-0b2a7674f8a9"
      },
      "source": [
        "tokenized_data = encode_data(data, tokenizer)"
      ],
      "id": "ZlvBuMMAmVwA",
      "execution_count": 11,
      "outputs": [
        {
          "output_type": "stream",
          "text": [
            "  2%|▏         | 4463/185616 [00:01<01:06, 2735.82it/s]Token indices sequence length is longer than the specified maximum sequence length for this model (304 > 256). Running this sequence through the model will result in indexing errors\n",
            "100%|██████████| 185616/185616 [00:50<00:00, 3648.44it/s]\n"
          ],
          "name": "stderr"
        }
      ]
    },
    {
      "cell_type": "code",
      "metadata": {
        "id": "q5rKIISsmZcO"
      },
      "source": [
        "len_data = [len(text) for text in tokenized_data]"
      ],
      "id": "q5rKIISsmZcO",
      "execution_count": 14,
      "outputs": []
    },
    {
      "cell_type": "markdown",
      "metadata": {
        "id": "rLLtVux7pmhg"
      },
      "source": [
        "# Analyze data\n",
        "\n",
        "\n",
        "*   Data length\n",
        "*   Vocab size\n",
        "\n",
        "\n",
        "\n",
        "\n"
      ],
      "id": "rLLtVux7pmhg"
    },
    {
      "cell_type": "code",
      "metadata": {
        "id": "kEpeoiA4qeSS"
      },
      "source": [
        "def calculate_length(data, label):\n",
        "  dict_ = {}\n",
        "  for ind, text in tqdm(enumerate(data), total=len(data)):\n",
        "    if label[ind] in dict_.keys():\n",
        "      dict_[label[ind][:-4]].append(len(text))\n",
        "    else:\n",
        "      dict_[label[ind][:-4]] = [len(text)]\n",
        "  return dict_"
      ],
      "id": "kEpeoiA4qeSS",
      "execution_count": 89,
      "outputs": []
    },
    {
      "cell_type": "code",
      "metadata": {
        "colab": {
          "base_uri": "https://localhost:8080/"
        },
        "id": "77Ct0UiXrZnW",
        "outputId": "8af04b1d-e860-4213-ac18-93157779d1c0"
      },
      "source": [
        "length_for_classes = calculate_length(tokenized_data, label)"
      ],
      "id": "77Ct0UiXrZnW",
      "execution_count": 90,
      "outputs": [
        {
          "output_type": "stream",
          "text": [
            "100%|██████████| 185616/185616 [00:00<00:00, 994599.77it/s]\n"
          ],
          "name": "stderr"
        }
      ]
    },
    {
      "cell_type": "code",
      "metadata": {
        "colab": {
          "base_uri": "https://localhost:8080/",
          "height": 772
        },
        "id": "bUI4bpeCr0bZ",
        "outputId": "bbcf8468-8f38-416c-cb9f-9c7f5fde94d9"
      },
      "source": [
        "fig = plt.figure(figsize=(13,13))\n",
        "ax = fig.subplots()\n",
        "ax.bar(np.arange(11)*1.5, [np.mean(value) for value in length_for_classes.values()], width=1)\n",
        "ax.set_xticks(np.arange(11)*1.5)\n",
        "ax.set_xticklabels(length_for_classes.keys(), minor=False)\n",
        "ax.set_title(\"Mean length according to class\")\n",
        "plt.show()"
      ],
      "id": "bUI4bpeCr0bZ",
      "execution_count": 93,
      "outputs": [
        {
          "output_type": "display_data",
          "data": {
            "image/png": "[encoded data removed]",
            "text/plain": [
              "<Figure size 936x936 with 1 Axes>"
            ]
          },
          "metadata": {
            "tags": [],
            "needs_background": "light"
          }
        }
      ]
    },
    {
      "cell_type": "markdown",
      "metadata": {
        "id": "nfpTQ3Hpxfrn"
      },
      "source": [
        "Obviously, \"Văn hóa\" is the class having largest mean length of texts. That means, overral, articles about \"Văn hóa\" is long than others. Meanwhile, \"Pháp luật\" and \"Công nghệ\"'s news are much shorter than others. "
      ],
      "id": "nfpTQ3Hpxfrn"
    },
    {
      "cell_type": "code",
      "metadata": {
        "id": "g2YLq0rIs8r0"
      },
      "source": [
        "length_data = [len(text) for text in tokenized_data]"
      ],
      "id": "g2YLq0rIs8r0",
      "execution_count": 94,
      "outputs": []
    },
    {
      "cell_type": "code",
      "metadata": {
        "colab": {
          "base_uri": "https://localhost:8080/",
          "height": 607
        },
        "id": "u0i48CfJySeB",
        "outputId": "ffb035db-3188-4a57-8008-2fc08c8d73c5"
      },
      "source": [
        "fig = plt.figure(figsize=(10,10))\n",
        "ax = fig.subplots()\n",
        "ax.boxplot(length_data, showfliers=True, showmeans=True, meanline=True)\n",
        "ax.set_title(\"Distribution for data length\")\n",
        "plt.show()"
      ],
      "id": "u0i48CfJySeB",
      "execution_count": 98,
      "outputs": [
        {
          "output_type": "display_data",
          "data": {
            "image/png": "[encoded data removed]",
            "text/plain": [
              "<Figure size 720x720 with 1 Axes>"
            ]
          },
          "metadata": {
            "tags": [],
            "needs_background": "light"
          }
        }
      ]
    },
    {
      "cell_type": "markdown",
      "metadata": {
        "id": "ri-_YYt-zVAG"
      },
      "source": [
        "Take a glance at above diagram, it is clearly that this dataset almost contains short texts. However, it has nontrivial number of sample having length outside of ..., which may leads to noise in training process. Let take more detailed analysis on it. The bar chart is used to show the quantity of texts of lengths in each interval, with an interval magnitude of 100."
      ],
      "id": "ri-_YYt-zVAG"
    },
    {
      "cell_type": "code",
      "metadata": {
        "colab": {
          "base_uri": "https://localhost:8080/"
        },
        "id": "8lbtxguB1CiM",
        "outputId": "234bc2ca-a422-47a1-e4bb-0866c776698f"
      },
      "source": [
        "intervals = ['0-100', '100-200', '200-300', '300-400','400-500', '500-600', '600-700', '700-800', '800-900', '900-1000', '1000-1100', '1100-1200', '1200-1300', '1300-1400', '1400-1500', '1500-1600', '1600-1700', '1700-1800', '1800-1900']\n",
        "number_texts = [0] * len(intervals)\n",
        "dict_2 = {}\n",
        "for item in tqdm(length_data, total=len(length_data)):\n",
        "    number_texts[item // 100] += 1"
      ],
      "id": "8lbtxguB1CiM",
      "execution_count": 106,
      "outputs": [
        {
          "output_type": "stream",
          "text": [
            "100%|██████████| 185616/185616 [00:00<00:00, 1877894.36it/s]\n"
          ],
          "name": "stderr"
        }
      ]
    },
    {
      "cell_type": "code",
      "metadata": {
        "colab": {
          "base_uri": "https://localhost:8080/",
          "height": 1000
        },
        "id": "JFTvaO7917Gc",
        "outputId": "1f72487f-6a66-40f5-8a13-72824916c77a"
      },
      "source": [
        "fig = plt.figure(figsize=(20,20))\n",
        "ax = fig.subplots()\n",
        "ax.bar(np.arange(len(intervals))*2, number_texts, 2)\n",
        "ax.set_xticks(np.arange(len(intervals))*2)\n",
        "ax.set_xticklabels(intervals, minor=False)\n",
        "for i, v in enumerate(number_texts):\n",
        "  ax.text(i*2-0.5, v + 2, str(v),color='blue', fontweight='bold')\n",
        "plt.show()"
      ],
      "id": "JFTvaO7917Gc",
      "execution_count": 114,
      "outputs": [
        {
          "output_type": "display_data",
          "data": {
            "image/png": "[encoded data removed]",
            "text/plain": [
              "<Figure size 1440x1440 with 1 Axes>"
            ]
          },
          "metadata": {
            "tags": [],
            "needs_background": "light"
          }
        }
      ]
    },
    {
      "cell_type": "markdown",
      "metadata": {
        "id": "epD6Et714B_d"
      },
      "source": [
        "As you can see, most data sample has length less than 100. Nontrivial amount of texts have length in range from 100 to 200. Whereas, other intervals has footling number of texts.\n",
        "# Proposal\n",
        "It is resonable to set sequence length to 128 in training process."
      ],
      "id": "epD6Et714B_d"
    }
  ]
}